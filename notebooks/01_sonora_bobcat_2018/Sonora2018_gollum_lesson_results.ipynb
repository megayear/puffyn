{
 "cells": [
  {
   "cell_type": "markdown",
   "id": "f561c653",
   "metadata": {},
   "source": [
    "# Results from the by-eye fitting of Sonora Bobcat-2018 Models\n",
    "\n",
    "This notebook shows the results of by-eye fitting of synthetic data with the `gollum` tool."
   ]
  },
  {
   "cell_type": "code",
   "execution_count": 1,
   "id": "e1159d49",
   "metadata": {},
   "outputs": [],
   "source": [
    "from gollum.sonora import SonoraSpectrum\n",
    "import numpy as np\n",
    "import matplotlib.pyplot as plt\n",
    "from specutils import Spectrum1D\n",
    "import pandas as pd\n",
    "import astropy.units as u\n",
    "%config InlineBackend.figure_format='retina'"
   ]
  },
  {
   "cell_type": "markdown",
   "id": "6f8daae8",
   "metadata": {},
   "source": [
    "Read in the results file with pandas:"
   ]
  },
  {
   "cell_type": "code",
   "execution_count": 4,
   "id": "99d7a321",
   "metadata": {},
   "outputs": [],
   "source": [
    "df = pd.read_excel(\"../../data/tables/results.xlsx\", header = 1 )"
   ]
  },
  {
   "cell_type": "code",
   "execution_count": 5,
   "id": "4b2bcb69",
   "metadata": {},
   "outputs": [
    {
     "data": {
      "text/html": [
       "<div>\n",
       "<style scoped>\n",
       "    .dataframe tbody tr th:only-of-type {\n",
       "        vertical-align: middle;\n",
       "    }\n",
       "\n",
       "    .dataframe tbody tr th {\n",
       "        vertical-align: top;\n",
       "    }\n",
       "\n",
       "    .dataframe thead th {\n",
       "        text-align: right;\n",
       "    }\n",
       "</style>\n",
       "<table border=\"1\" class=\"dataframe\">\n",
       "  <thead>\n",
       "    <tr style=\"text-align: right;\">\n",
       "      <th></th>\n",
       "      <th>lesson</th>\n",
       "      <th>specimen</th>\n",
       "      <th>Teff_lower</th>\n",
       "      <th>Teff</th>\n",
       "      <th>Teff_upper</th>\n",
       "      <th>logg_lower</th>\n",
       "      <th>logg</th>\n",
       "      <th>logg_upper</th>\n",
       "      <th>vsini_lower</th>\n",
       "      <th>vsini</th>\n",
       "      <th>vsini_upper</th>\n",
       "      <th>rv_lower</th>\n",
       "      <th>rv</th>\n",
       "      <th>rv_upper</th>\n",
       "    </tr>\n",
       "  </thead>\n",
       "  <tbody>\n",
       "    <tr>\n",
       "      <th>4</th>\n",
       "      <td>B</td>\n",
       "      <td>2</td>\n",
       "      <td>1900</td>\n",
       "      <td>0</td>\n",
       "      <td>2400</td>\n",
       "      <td>5.00</td>\n",
       "      <td>0.00</td>\n",
       "      <td>5.50</td>\n",
       "      <td>0.0</td>\n",
       "      <td>0.0</td>\n",
       "      <td>0.0</td>\n",
       "      <td>0.80</td>\n",
       "      <td>0.00</td>\n",
       "      <td>5.50</td>\n",
       "    </tr>\n",
       "    <tr>\n",
       "      <th>5</th>\n",
       "      <td>B</td>\n",
       "      <td>3</td>\n",
       "      <td>1600</td>\n",
       "      <td>0</td>\n",
       "      <td>2100</td>\n",
       "      <td>4.00</td>\n",
       "      <td>0.00</td>\n",
       "      <td>4.50</td>\n",
       "      <td>0.0</td>\n",
       "      <td>0.0</td>\n",
       "      <td>30.0</td>\n",
       "      <td>-19.65</td>\n",
       "      <td>0.00</td>\n",
       "      <td>3.75</td>\n",
       "    </tr>\n",
       "    <tr>\n",
       "      <th>6</th>\n",
       "      <td>C</td>\n",
       "      <td>1</td>\n",
       "      <td>1100</td>\n",
       "      <td>1675</td>\n",
       "      <td>1800</td>\n",
       "      <td>4.25</td>\n",
       "      <td>4.25</td>\n",
       "      <td>5.25</td>\n",
       "      <td>7.0</td>\n",
       "      <td>19.7</td>\n",
       "      <td>23.0</td>\n",
       "      <td>1.80</td>\n",
       "      <td>-3.25</td>\n",
       "      <td>17.35</td>\n",
       "    </tr>\n",
       "    <tr>\n",
       "      <th>7</th>\n",
       "      <td>C</td>\n",
       "      <td>2</td>\n",
       "      <td>1100</td>\n",
       "      <td>1400</td>\n",
       "      <td>1600</td>\n",
       "      <td>4.25</td>\n",
       "      <td>4.50</td>\n",
       "      <td>5.00</td>\n",
       "      <td>16.0</td>\n",
       "      <td>22.0</td>\n",
       "      <td>32.0</td>\n",
       "      <td>32.10</td>\n",
       "      <td>46.85</td>\n",
       "      <td>57.50</td>\n",
       "    </tr>\n",
       "    <tr>\n",
       "      <th>8</th>\n",
       "      <td>C</td>\n",
       "      <td>3</td>\n",
       "      <td>550</td>\n",
       "      <td>700</td>\n",
       "      <td>1100</td>\n",
       "      <td>4.25</td>\n",
       "      <td>4.75</td>\n",
       "      <td>5.00</td>\n",
       "      <td>36.0</td>\n",
       "      <td>40.0</td>\n",
       "      <td>40.0</td>\n",
       "      <td>-38.55</td>\n",
       "      <td>-23.00</td>\n",
       "      <td>-15.60</td>\n",
       "    </tr>\n",
       "  </tbody>\n",
       "</table>\n",
       "</div>"
      ],
      "text/plain": [
       "  lesson  specimen  Teff_lower  Teff  Teff_upper  logg_lower  logg  \\\n",
       "4      B         2        1900     0        2400        5.00  0.00   \n",
       "5      B         3        1600     0        2100        4.00  0.00   \n",
       "6      C         1        1100  1675        1800        4.25  4.25   \n",
       "7      C         2        1100  1400        1600        4.25  4.50   \n",
       "8      C         3         550   700        1100        4.25  4.75   \n",
       "\n",
       "   logg_upper  vsini_lower  vsini  vsini_upper  rv_lower     rv  rv_upper  \n",
       "4        5.50          0.0    0.0          0.0      0.80   0.00      5.50  \n",
       "5        4.50          0.0    0.0         30.0    -19.65   0.00      3.75  \n",
       "6        5.25          7.0   19.7         23.0      1.80  -3.25     17.35  \n",
       "7        5.00         16.0   22.0         32.0     32.10  46.85     57.50  \n",
       "8        5.00         36.0   40.0         40.0    -38.55 -23.00    -15.60  "
      ]
     },
     "execution_count": 5,
     "metadata": {},
     "output_type": "execute_result"
    }
   ],
   "source": [
    "df.tail()"
   ]
  },
  {
   "cell_type": "code",
   "execution_count": 17,
   "id": "150ed961",
   "metadata": {},
   "outputs": [
    {
     "data": {
      "text/plain": [
       "Text(0, 0.5, 'Teff')"
      ]
     },
     "execution_count": 17,
     "metadata": {},
     "output_type": "execute_result"
    },
    {
     "data": {
      "image/png": "[encoded data removed]",
      "text/plain": [
       "<Figure size 432x288 with 1 Axes>"
      ]
     },
     "metadata": {
      "image/png": {
       "height": 261,
       "width": 384
      },
      "needs_background": "light"
     },
     "output_type": "display_data"
    }
   ],
   "source": [
    "plt.errorbar(df.Teff, df.logg, xerr = df.Teff - df.Teff_lower, yerr= df.logg - df.logg_lower, fmt = \".\")\n",
    "plt.xlabel(\"log g\")\n",
    "plt.ylabel(\"Teff\")"
   ]
  },
  {
   "cell_type": "code",
   "execution_count": null,
   "id": "3d07421d",
   "metadata": {},
   "outputs": [],
   "source": []
  }
 ],
 "metadata": {
  "kernelspec": {
   "display_name": "Python 3 (ipykernel)",
   "language": "python",
   "name": "python3"
  },
  "language_info": {
   "codemirror_mode": {
    "name": "ipython",
    "version": 3
   },
   "file_extension": ".py",
   "mimetype": "text/x-python",
   "name": "python",
   "nbconvert_exporter": "python",
   "pygments_lexer": "ipython3",
   "version": "3.8.12"
  }
 },
 "nbformat": 4,
 "nbformat_minor": 5
}
