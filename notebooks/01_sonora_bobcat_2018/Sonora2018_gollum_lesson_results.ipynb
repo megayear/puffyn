{
 "cells": [
  {
   "cell_type": "markdown",
   "id": "f561c653",
   "metadata": {},
   "source": [
    "# Results from the by-eye fitting of Sonora Bobcat-2018 Models\n",
    "\n",
    "This notebook shows the results of by-eye fitting of synthetic data with the `gollum` tool."
   ]
  },
  {
   "cell_type": "code",
   "execution_count": null,
   "id": "e1159d49",
   "metadata": {},
   "outputs": [],
   "source": [
    "from gollum.sonora import SonoraSpectrum\n",
    "import numpy as np\n",
    "import matplotlib.pyplot as plt\n",
    "from specutils import Spectrum1D\n",
    "import pandas as pd\n",
    "import astropy.units as u\n",
    "%config InlineBackend.figure_format='retina'"
   ]
  }
 ],
 "metadata": {
  "kernelspec": {
   "display_name": "Python 3 (ipykernel)",
   "language": "python",
   "name": "python3"
  },
  "language_info": {
   "codemirror_mode": {
    "name": "ipython",
    "version": 3
   },
   "file_extension": ".py",
   "mimetype": "text/x-python",
   "name": "python",
   "nbconvert_exporter": "python",
   "pygments_lexer": "ipython3",
   "version": "3.8.10"
  }
 },
 "nbformat": 4,
 "nbformat_minor": 5
}
